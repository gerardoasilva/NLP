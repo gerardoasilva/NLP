{
 "cells": [
  {
   "cell_type": "markdown",
   "metadata": {},
   "source": [
    "# Instagram Scraper\n",
    "\n",
    "En el siguiente Notebook se desarrolla un programa con Selenium para hacer Scraping de la red social Instagram y generar una base de datos de publicaciones conformadas por (imagen y leyenda)."
   ]
  },
  {
   "cell_type": "code",
   "execution_count": null,
   "metadata": {
    "id": "aMeDsiNMQ13m"
   },
   "outputs": [],
   "source": [
    "from selenium import webdriver\n",
    "from selenium.webdriver.common.keys import Keys\n",
    "from selenium.webdriver.support import expected_conditions as EC\n",
    "from selenium.webdriver.common.by import By\n",
    "from selenium.webdriver.support.wait import WebDriverWait"
   ]
  },
  {
   "cell_type": "code",
   "execution_count": null,
   "metadata": {
    "id": "twDsTLRVRNOG"
   },
   "outputs": [],
   "source": [
    "import os\n",
    "import wget\n",
    "import time\n",
    "import pandas as pd"
   ]
  },
  {
   "cell_type": "markdown",
   "metadata": {},
   "source": [
    "En este Notebook se utilizará el navegador Chrome. Para poder automatizarlo, es necesario [descargar el driver](https://chromedriver.chromium.org/downloads) para la versión correspondiente y en la línea ```driver = webdriver.Chrome('/your/path/here')``` se añadirá la dirección en la que se encuentra el driver."
   ]
  },
  {
   "cell_type": "code",
   "execution_count": null,
   "metadata": {
    "colab": {
     "base_uri": "https://localhost:8080/",
     "height": 426
    },
    "id": "HnwsS9PERQNP",
    "outputId": "313ccda9-774f-4d33-8be7-d35c7f4c6784"
   },
   "outputs": [],
   "source": [
    "# Crear sesión del navegador y abrir plataforma web de IG\n",
    "driver = webdriver.Chrome('/your/path/here')\n",
    "driver.get('https://www.instagram.com/')"
   ]
  },
  {
   "cell_type": "code",
   "execution_count": null,
   "metadata": {
    "id": "MEjTuJH4SMHc"
   },
   "outputs": [],
   "source": [
    "# Seleccionar los inputs de usuario y password\n",
    "username = WebDriverWait(driver, 10).until(EC.element_to_be_clickable((By.CSS_SELECTOR, \"input[name='username']\")))\n",
    "password = WebDriverWait(driver, 10).until(EC.element_to_be_clickable((By.CSS_SELECTOR, \"input[name='password']\")))\n",
    "\n",
    "# Vaciar los inputs\n",
    "username.clear()\n",
    "password.clear()\n",
    "\n",
    "# Leer credenciales de archivo\n",
    "with open('./local/ig_pw.txt', 'r') as f:\n",
    "    pw = f.read()\n",
    "    f.close()\n",
    "\n",
    "# Ingresar las credenciales en la plataforma\n",
    "username.send_keys(\"username\")\n",
    "password.send_keys(pw)"
   ]
  },
  {
   "cell_type": "code",
   "execution_count": null,
   "metadata": {},
   "outputs": [],
   "source": [
    "# Iniciar sesión en IG\n",
    "log_in = WebDriverWait(driver, 10).until(EC.element_to_be_clickable((By.CSS_SELECTOR, \"button[type='submit']\"))).click()\n",
    "time.sleep(1)"
   ]
  },
  {
   "cell_type": "code",
   "execution_count": null,
   "metadata": {},
   "outputs": [],
   "source": [
    "# Saltar alertas\n",
    "try:\n",
    "    not_now = WebDriverWait(driver, 1).until(EC.element_to_be_clickable((By.XPATH, \"//button[contains(text(), 'Ahora no')]\"))).click()\n",
    "except:\n",
    "    pass\n",
    "try:\n",
    "    not_now2 = WebDriverWait(driver, 1).until(EC.element_to_be_clickable((By.XPATH, \"//button[contains(text(), 'Ahora no')]\"))).click()\n",
    "except:\n",
    "    pass"
   ]
  },
  {
   "cell_type": "code",
   "execution_count": null,
   "metadata": {},
   "outputs": [],
   "source": [
    "# Buscar posts por hashtag\n",
    "hashtag = \"someHashtag\"\n",
    "driver.get(\"https://www.instagram.com/explore/tags/\" + hashtag + \"/\")"
   ]
  },
  {
   "cell_type": "code",
   "execution_count": null,
   "metadata": {},
   "outputs": [],
   "source": [
    "# Saltar el mensaje de obtener ayuda para temas sensibles\n",
    "try:\n",
    "    # Mostrar publicaciones\n",
    "    WebDriverWait(driver, 1).until(EC.element_to_be_clickable((By.XPATH, \"//button[@class='sqdOP  L3NKy    _8A5w5    '][contains(text(),'M')]\"))).click()\n",
    "except:\n",
    "    pass"
   ]
  },
  {
   "cell_type": "code",
   "execution_count": null,
   "metadata": {},
   "outputs": [],
   "source": [
    "# Abrir la primer publicación\n",
    "WebDriverWait(driver, 3).until(EC.element_to_be_clickable((By.CSS_SELECTOR, \"div[class='_9AhH0']\"))).click()"
   ]
  },
  {
   "cell_type": "code",
   "execution_count": null,
   "metadata": {},
   "outputs": [],
   "source": [
    "# Crear arreglo para almacenar los posts\n",
    "posts_list = []"
   ]
  },
  {
   "cell_type": "code",
   "execution_count": null,
   "metadata": {},
   "outputs": [],
   "source": [
    "# Número de posts a obtener\n",
    "n_items = 100\n",
    "\n",
    "# Ciclo que obtiene la imagen y el texto de cada publicación\n",
    "for i in range(0, n_items):\n",
    "    print('\\n--- POST', i+1)\n",
    "    post = []\n",
    "    caption = WebDriverWait(driver, 3).until(EC.visibility_of_element_located((By.XPATH, \"//div[@class='C4VMK']/span\"))).get_attribute(\"textContent\")\n",
    "    try:\n",
    "        image = WebDriverWait(driver, 1).until(EC.visibility_of_element_located((By.XPATH, \"//img[@class='FFVAD'][@srcset and not(@srcset='')]\"))).get_attribute(\"src\")\n",
    "        post.append(image)\n",
    "        post.append(caption)\n",
    "        print(image)\n",
    "        print(caption)\n",
    "        posts_list.append(post)\n",
    "    except:\n",
    "        print(\"Post is a video\")\n",
    "        \n",
    "    # Pasa al siguiente post\n",
    "    driver.find_element_by_class_name(\"coreSpriteRightPaginationArrow\").click()\n"
   ]
  },
  {
   "cell_type": "code",
   "execution_count": null,
   "metadata": {},
   "outputs": [],
   "source": [
    "#Convertir el arreglo de publicaciones en un DataFrame\n",
    "df = pd.DataFrame(posts_list, columns=['image', 'caption'])\n",
    "\n",
    "# Guarda el DataFrame en archivo .csv\n",
    "df.to_csv('instagram-posts.csv', index=False)"
   ]
  },
  {
   "cell_type": "code",
   "execution_count": null,
   "metadata": {},
   "outputs": [],
   "source": [
    "df"
   ]
  }
 ],
 "metadata": {
  "colab": {
   "name": "WebScraper.ipynb",
   "provenance": []
  },
  "kernelspec": {
   "display_name": "Python 3",
   "language": "python",
   "name": "python3"
  },
  "language_info": {
   "codemirror_mode": {
    "name": "ipython",
    "version": 3
   },
   "file_extension": ".py",
   "mimetype": "text/x-python",
   "name": "python",
   "nbconvert_exporter": "python",
   "pygments_lexer": "ipython3",
   "version": "3.8.5"
  }
 },
 "nbformat": 4,
 "nbformat_minor": 4
}
