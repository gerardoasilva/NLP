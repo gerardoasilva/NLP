{
 "cells": [
  {
   "cell_type": "markdown",
   "metadata": {},
   "source": [
    "# Instagram Scraper\n",
    "\n",
    "En el siguiente Notebook se desarrolla un programa con Selenium para hacer Scraping de la red social Instagram y generar una base de datos de publicaciones conformadas por (imagen y leyenda)."
   ]
  },
  {
   "cell_type": "code",
   "execution_count": 274,
   "metadata": {
    "id": "aMeDsiNMQ13m"
   },
   "outputs": [],
   "source": [
    "from selenium import webdriver\n",
    "from selenium.webdriver.common.keys import Keys\n",
    "from selenium.webdriver.support import expected_conditions as EC\n",
    "from selenium.webdriver.common.by import By\n",
    "from selenium.webdriver.support.wait import WebDriverWait"
   ]
  },
  {
   "cell_type": "code",
   "execution_count": 291,
   "metadata": {
    "id": "twDsTLRVRNOG"
   },
   "outputs": [],
   "source": [
    "import os\n",
    "import wget\n",
    "import time\n",
    "import pandas as pd"
   ]
  },
  {
   "cell_type": "code",
   "execution_count": 276,
   "metadata": {
    "colab": {
     "base_uri": "https://localhost:8080/",
     "height": 426
    },
    "id": "HnwsS9PERQNP",
    "outputId": "313ccda9-774f-4d33-8be7-d35c7f4c6784"
   },
   "outputs": [],
   "source": [
    "# Crear sesión del navegador y abrir plataforma web de IG\n",
    "driver = webdriver.Chrome('/Users/gerardosilvarazo')\n",
    "driver.get('https://www.instagram.com/')"
   ]
  },
  {
   "cell_type": "code",
   "execution_count": 277,
   "metadata": {
    "id": "MEjTuJH4SMHc"
   },
   "outputs": [],
   "source": [
    "# Seleccionar los inputs de usuario y password\n",
    "username = WebDriverWait(driver, 10).until(EC.element_to_be_clickable((By.CSS_SELECTOR, \"input[name='username']\")))\n",
    "password = WebDriverWait(driver, 10).until(EC.element_to_be_clickable((By.CSS_SELECTOR, \"input[name='password']\")))\n",
    "\n",
    "# Vaciar los inputs\n",
    "username.clear()\n",
    "password.clear()\n",
    "\n",
    "# Leer credenciales de archivo\n",
    "with open('./local/ig_pw.txt', 'r') as f:\n",
    "    pw = f.read()\n",
    "    f.close()\n",
    "\n",
    "# Ingresar las credenciales en la plataforma\n",
    "username.send_keys(\"username\")\n",
    "password.send_keys(pw)"
   ]
  },
  {
   "cell_type": "code",
   "execution_count": 278,
   "metadata": {},
   "outputs": [],
   "source": [
    "# Iniciar sesión en IG\n",
    "log_in = WebDriverWait(driver, 10).until(EC.element_to_be_clickable((By.CSS_SELECTOR, \"button[type='submit']\"))).click()\n",
    "time.sleep(1)"
   ]
  },
  {
   "cell_type": "code",
   "execution_count": 279,
   "metadata": {},
   "outputs": [],
   "source": [
    "# Saltar alertas\n",
    "try:\n",
    "    not_now = WebDriverWait(driver, 1).until(EC.element_to_be_clickable((By.XPATH, \"//button[contains(text(), 'Ahora no')]\"))).click()\n",
    "except:\n",
    "    pass\n",
    "try:\n",
    "    not_now2 = WebDriverWait(driver, 1).until(EC.element_to_be_clickable((By.XPATH, \"//button[contains(text(), 'Ahora no')]\"))).click()\n",
    "except:\n",
    "    pass"
   ]
  },
  {
   "cell_type": "code",
   "execution_count": 285,
   "metadata": {},
   "outputs": [],
   "source": [
    "# Buscar posts por hashtag\n",
    "hashtag = \"someHashtag\"\n",
    "driver.get(\"https://www.instagram.com/explore/tags/\" + hashtag + \"/\")"
   ]
  },
  {
   "cell_type": "code",
   "execution_count": 286,
   "metadata": {},
   "outputs": [],
   "source": [
    "# Saltar el mensaje de obtener ayuda para temas sensibles\n",
    "try:\n",
    "    # Mostrar publicaciones\n",
    "    WebDriverWait(driver, 1).until(EC.element_to_be_clickable((By.XPATH, \"//button[@class='sqdOP  L3NKy    _8A5w5    '][contains(text(),'M')]\"))).click()\n",
    "except:\n",
    "    pass"
   ]
  },
  {
   "cell_type": "code",
   "execution_count": 287,
   "metadata": {},
   "outputs": [],
   "source": [
    "# Abrir la primer publicación\n",
    "WebDriverWait(driver, 3).until(EC.element_to_be_clickable((By.CSS_SELECTOR, \"div[class='_9AhH0']\"))).click()"
   ]
  },
  {
   "cell_type": "code",
   "execution_count": 288,
   "metadata": {},
   "outputs": [],
   "source": [
    "# Crear arreglo para almacenar los posts\n",
    "posts_list = []"
   ]
  },
  {
   "cell_type": "code",
   "execution_count": 302,
   "metadata": {},
   "outputs": [
    {
     "name": "stdout",
     "output_type": "stream",
     "text": [
      "\n",
      "--- POST 1\n",
      "https://instagram.fntr6-3.fna.fbcdn.net/v/t51.2885-15/e35/226023183_5968579423184381_2767715268821360474_n.jpg?_nc_ht=instagram.fntr6-3.fna.fbcdn.net&_nc_cat=1&_nc_ohc=OQ-CVE-McjcAX_5MIfc&edm=AP_V10EBAAAA&ccb=7-4&oh=6709821217944fe7b5f10628402bcf1c&oe=610A135E&_nc_sid=4f375e\n",
      "LAMBORGHINI URUS LP650-4⠀⠀2019 Preto / 9.175 KM / R$ 2.890.000,00⠀⠀Motor 4.0 V8 Bi-turbo 650cv⠀Câmbio automático sequencial oito marchas⠀Freio em Cerâmica⠀Faz de 0 a 100km/h em 3,6s⠀Velocidade máxima de 305km/h⠀tração integral permanente 4X4⠀Suspensão esportiva e rodas aro 23”⠀Painel em couro e banco esportivo elétrico⠀Massageador, aquecimento e resfriamento dos bancos dianteiros⠀Teto solar panorâmico em Alcântara⠀2 Telas traseira⠀Câmera de ré 360° , acabamento interno em carbono⠀Escapamento esportivo⠀Leitor de faixa, Head Up Display⠀Carregador de celular por indução⠀Controle cruzeiro adaptativo⠀⠀*Interessados, entre em contato comigo pelo direct ou pelo WhatsApp acessando o link na bio para mais informações.*⠀⠀#lamborghini #urus #lamborghiniurus #v8 #leandrogabioneta #especialistaemcarrospremium #motor #carros #superesportivos #carrosesportivos #carrosexclusivos #andreveiculos #leandrogabioneta #carrospremium #instacar #turbo\n",
      "\n",
      "--- POST 2\n",
      "https://instagram.fntr6-3.fna.fbcdn.net/v/t51.2885-15/e35/s1080x1080/225663623_258569799063429_5268780094057997362_n.jpg?_nc_ht=instagram.fntr6-3.fna.fbcdn.net&_nc_cat=109&_nc_ohc=VIlWIUNtG08AX8ripLP&edm=AP_V10EBAAAA&ccb=7-4&oh=5133ccc2a095c201a905f8184d9b4219&oe=610997B5&_nc_sid=4f375e\n",
      "For Sale: BMW 320i 2.0 Turbo Sport GP➖➖➖➖➖➖➖➖➖➖202027.700kmAut. ZF 8 SpeedPaddle Shifts184cvTeto Solar ElétricoFaróis Full LEDsPainel TFT 12,3”Mapa GPS 3DConnected DriveSistema de Som HiFiControle de CruzeiroiDrive Touch 12,3”Ar Condicionado TrizoneAcabamento Interno em Alumínio MesheffectParking Assistant + Concierge BMWDriving Assistant + BMW Confort AccessRetrovisores c/ Declinação e RebatimentoBancos Sensatec Elétricos c/ MemóriaBMW Live Cockpit Professional6 Air BagsTração TraseiraRodas 18”➖➖➖➖➖➖➖➖➖➖R$ 239.900,00Marquem os amigos! Propostas e anúncios via MSG! Ative as notificações e fique por dentro de todas as nossas publicações.#consultingmotors\n",
      "\n",
      "--- POST 3\n",
      "https://instagram.fntr6-1.fna.fbcdn.net/v/t51.2885-15/e35/226492124_4513343605345371_3561736740321655023_n.jpg?_nc_ht=instagram.fntr6-1.fna.fbcdn.net&_nc_cat=103&_nc_ohc=6PbyXbq8u_gAX-GeDLG&tn=H2UwNElh_t1tx9jj&edm=AP_V10EBAAAA&ccb=7-4&oh=4057a4c276c2e37cc9afe8ecdf31694c&oe=610A5BB2&_nc_sid=4f375e\n",
      "MANDE SUA FOTO OU VIDEO 📷Sigam nossa pagina✅Curta, comenta E COMPARTILHA ⚠️.........#punto #puntosporting #puntoclube #puntotjet #puntoblackmotion #puntocruz #punto_brasil_oficial#carros #carrosesportivos #baixo#puntofijo #puntobrasil #puntograficol #puntosnegros #puntoabarth #carrosesportivos #carro #carrosdeluxo #carrobaixo #carrosrebaixado\n"
     ]
    }
   ],
   "source": [
    "# Número de posts a obtener\n",
    "n_items = 100\n",
    "\n",
    "# Ciclo que obtiene la imagen y el texto de cada publicación\n",
    "for i in range(0, n_items):\n",
    "    print('\\n--- POST', i+1)\n",
    "    post = []\n",
    "    caption = WebDriverWait(driver, 3).until(EC.visibility_of_element_located((By.XPATH, \"//div[@class='C4VMK']/span\"))).get_attribute(\"textContent\")\n",
    "    try:\n",
    "        image = WebDriverWait(driver, 1).until(EC.visibility_of_element_located((By.XPATH, \"//img[@class='FFVAD'][@srcset and not(@srcset='')]\"))).get_attribute(\"src\")\n",
    "        post.append(image)\n",
    "        post.append(caption)\n",
    "        print(image)\n",
    "        print(caption)\n",
    "        posts_list.append(post)\n",
    "    except:\n",
    "        print(\"Post is a video\")\n",
    "        \n",
    "    # Pasa al siguiente post\n",
    "    driver.find_element_by_class_name(\"coreSpriteRightPaginationArrow\").click()\n"
   ]
  },
  {
   "cell_type": "code",
   "execution_count": 303,
   "metadata": {},
   "outputs": [],
   "source": [
    "#Convertir el arreglo de publicaciones en un DataFrame\n",
    "df = pd.DataFrame(posts_list, columns=['image', 'caption'])\n",
    "\n",
    "# Guarda el DataFrame en archivo .csv\n",
    "df.to_csv('instagram-posts.csv', index=False)"
   ]
  },
  {
   "cell_type": "code",
   "execution_count": 304,
   "metadata": {},
   "outputs": [
    {
     "data": {
      "text/html": [
       "<div>\n",
       "<style scoped>\n",
       "    .dataframe tbody tr th:only-of-type {\n",
       "        vertical-align: middle;\n",
       "    }\n",
       "\n",
       "    .dataframe tbody tr th {\n",
       "        vertical-align: top;\n",
       "    }\n",
       "\n",
       "    .dataframe thead th {\n",
       "        text-align: right;\n",
       "    }\n",
       "</style>\n",
       "<table border=\"1\" class=\"dataframe\">\n",
       "  <thead>\n",
       "    <tr style=\"text-align: right;\">\n",
       "      <th></th>\n",
       "      <th>image</th>\n",
       "      <th>caption</th>\n",
       "    </tr>\n",
       "  </thead>\n",
       "  <tbody>\n",
       "    <tr>\n",
       "      <th>0</th>\n",
       "      <td>https://instagram.fntr6-3.fna.fbcdn.net/v/t51....</td>\n",
       "      <td>BMW M5, IMPECÁVEL! ANO 2019 COM 33 MIL KM. TO...</td>\n",
       "    </tr>\n",
       "    <tr>\n",
       "      <th>1</th>\n",
       "      <td>https://instagram.fntr6-3.fna.fbcdn.net/v/t51....</td>\n",
       "      <td>🔛 MARQUE UM POSSÍVEL COMPRADOR E GANHE COMISS...</td>\n",
       "    </tr>\n",
       "    <tr>\n",
       "      <th>2</th>\n",
       "      <td>https://instagram.fntr6-3.fna.fbcdn.net/v/t51....</td>\n",
       "      <td>🔥😏</td>\n",
       "    </tr>\n",
       "    <tr>\n",
       "      <th>3</th>\n",
       "      <td>https://instagram.fntr6-3.fna.fbcdn.net/v/t51....</td>\n",
       "      <td>À VENDA#jettatsi #jettarline R$ 123.900,00CONT...</td>\n",
       "    </tr>\n",
       "    <tr>\n",
       "      <th>4</th>\n",
       "      <td>https://instagram.fntr6-3.fna.fbcdn.net/v/t51....</td>\n",
       "      <td>LAMBORGHINI URUS LP650-4⠀⠀2019 Preto / 9.175 K...</td>\n",
       "    </tr>\n",
       "    <tr>\n",
       "      <th>5</th>\n",
       "      <td>https://instagram.fntr6-3.fna.fbcdn.net/v/t51....</td>\n",
       "      <td>For Sale: BMW 320i 2.0 Turbo Sport GP➖➖➖➖➖➖➖➖➖...</td>\n",
       "    </tr>\n",
       "    <tr>\n",
       "      <th>6</th>\n",
       "      <td>https://instagram.fntr6-1.fna.fbcdn.net/v/t51....</td>\n",
       "      <td>MANDE SUA FOTO OU VIDEO 📷Sigam nossa pagina✅Cu...</td>\n",
       "    </tr>\n",
       "  </tbody>\n",
       "</table>\n",
       "</div>"
      ],
      "text/plain": [
       "                                               image  \\\n",
       "0  https://instagram.fntr6-3.fna.fbcdn.net/v/t51....   \n",
       "1  https://instagram.fntr6-3.fna.fbcdn.net/v/t51....   \n",
       "2  https://instagram.fntr6-3.fna.fbcdn.net/v/t51....   \n",
       "3  https://instagram.fntr6-3.fna.fbcdn.net/v/t51....   \n",
       "4  https://instagram.fntr6-3.fna.fbcdn.net/v/t51....   \n",
       "5  https://instagram.fntr6-3.fna.fbcdn.net/v/t51....   \n",
       "6  https://instagram.fntr6-1.fna.fbcdn.net/v/t51....   \n",
       "\n",
       "                                             caption  \n",
       "0  BMW M5, IMPECÁVEL! ANO 2019 COM 33 MIL KM. TO...  \n",
       "1  🔛 MARQUE UM POSSÍVEL COMPRADOR E GANHE COMISS...  \n",
       "2                                                 🔥😏  \n",
       "3  À VENDA#jettatsi #jettarline R$ 123.900,00CONT...  \n",
       "4  LAMBORGHINI URUS LP650-4⠀⠀2019 Preto / 9.175 K...  \n",
       "5  For Sale: BMW 320i 2.0 Turbo Sport GP➖➖➖➖➖➖➖➖➖...  \n",
       "6  MANDE SUA FOTO OU VIDEO 📷Sigam nossa pagina✅Cu...  "
      ]
     },
     "execution_count": 304,
     "metadata": {},
     "output_type": "execute_result"
    }
   ],
   "source": [
    "df"
   ]
  }
 ],
 "metadata": {
  "colab": {
   "name": "WebScraper.ipynb",
   "provenance": []
  },
  "kernelspec": {
   "display_name": "Python 3",
   "language": "python",
   "name": "python3"
  },
  "language_info": {
   "codemirror_mode": {
    "name": "ipython",
    "version": 3
   },
   "file_extension": ".py",
   "mimetype": "text/x-python",
   "name": "python",
   "nbconvert_exporter": "python",
   "pygments_lexer": "ipython3",
   "version": "3.8.5"
  }
 },
 "nbformat": 4,
 "nbformat_minor": 4
}
